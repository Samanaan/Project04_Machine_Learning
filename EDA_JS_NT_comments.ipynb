{
  "cells": [
    {
      "cell_type": "markdown",
      "id": "fde574be",
      "metadata": {
        "id": "fde574be"
      },
      "source": [
        "## EDA"
      ]
    },
    {
      "cell_type": "markdown",
      "id": "d6d45f06",
      "metadata": {
        "id": "d6d45f06"
      },
      "source": [
        "### Data Import & Initial Inspection"
      ]
    },
    {
      "cell_type": "code",
      "execution_count": null,
      "id": "451c1550",
      "metadata": {
        "id": "451c1550"
      },
      "outputs": [],
      "source": [
        "#Import Dependencies\n",
        "import pandas as pd\n",
        "import matplotlib.pyplot as plt"
      ]
    },
    {
      "cell_type": "code",
      "execution_count": null,
      "id": "3e2746ae",
      "metadata": {
        "id": "3e2746ae",
        "outputId": "773da635-483b-4ec3-b7e3-1ed81c65ea7f"
      },
      "outputs": [
        {
          "data": {
            "text/html": [
              "<div>\n",
              "<style scoped>\n",
              "    .dataframe tbody tr th:only-of-type {\n",
              "        vertical-align: middle;\n",
              "    }\n",
              "\n",
              "    .dataframe tbody tr th {\n",
              "        vertical-align: top;\n",
              "    }\n",
              "\n",
              "    .dataframe thead th {\n",
              "        text-align: right;\n",
              "    }\n",
              "</style>\n",
              "<table border=\"1\" class=\"dataframe\">\n",
              "  <thead>\n",
              "    <tr style=\"text-align: right;\">\n",
              "      <th></th>\n",
              "      <th>product_id</th>\n",
              "      <th>product_category_name</th>\n",
              "      <th>month_year</th>\n",
              "      <th>qty_sold</th>\n",
              "      <th>total_price</th>\n",
              "      <th>freight_price</th>\n",
              "      <th>unit_price</th>\n",
              "      <th>product_rating</th>\n",
              "      <th>no_customers</th>\n",
              "      <th>month</th>\n",
              "      <th>...</th>\n",
              "      <th>comp1_price</th>\n",
              "      <th>comp1_prod_rating</th>\n",
              "      <th>comp1_freight_price</th>\n",
              "      <th>comp2_price</th>\n",
              "      <th>comp2_prod_rating</th>\n",
              "      <th>comp2_freight_price</th>\n",
              "      <th>comp3_price</th>\n",
              "      <th>comp3_prod_rating</th>\n",
              "      <th>comp3_freight_price</th>\n",
              "      <th>lag_price</th>\n",
              "    </tr>\n",
              "  </thead>\n",
              "  <tbody>\n",
              "    <tr>\n",
              "      <th>0</th>\n",
              "      <td>bed1</td>\n",
              "      <td>bed_bath_table</td>\n",
              "      <td>01-05-2017</td>\n",
              "      <td>1</td>\n",
              "      <td>45.95</td>\n",
              "      <td>15.100000</td>\n",
              "      <td>45.95</td>\n",
              "      <td>4.0</td>\n",
              "      <td>57</td>\n",
              "      <td>5</td>\n",
              "      <td>...</td>\n",
              "      <td>89.9</td>\n",
              "      <td>3.9</td>\n",
              "      <td>15.011897</td>\n",
              "      <td>215.000000</td>\n",
              "      <td>4.4</td>\n",
              "      <td>8.760000</td>\n",
              "      <td>45.95</td>\n",
              "      <td>4.0</td>\n",
              "      <td>15.100000</td>\n",
              "      <td>45.90</td>\n",
              "    </tr>\n",
              "    <tr>\n",
              "      <th>1</th>\n",
              "      <td>bed1</td>\n",
              "      <td>bed_bath_table</td>\n",
              "      <td>01-06-2017</td>\n",
              "      <td>3</td>\n",
              "      <td>137.85</td>\n",
              "      <td>12.933333</td>\n",
              "      <td>45.95</td>\n",
              "      <td>4.0</td>\n",
              "      <td>61</td>\n",
              "      <td>6</td>\n",
              "      <td>...</td>\n",
              "      <td>89.9</td>\n",
              "      <td>3.9</td>\n",
              "      <td>14.769216</td>\n",
              "      <td>209.000000</td>\n",
              "      <td>4.4</td>\n",
              "      <td>21.322000</td>\n",
              "      <td>45.95</td>\n",
              "      <td>4.0</td>\n",
              "      <td>12.933333</td>\n",
              "      <td>45.95</td>\n",
              "    </tr>\n",
              "    <tr>\n",
              "      <th>2</th>\n",
              "      <td>bed1</td>\n",
              "      <td>bed_bath_table</td>\n",
              "      <td>01-07-2017</td>\n",
              "      <td>6</td>\n",
              "      <td>275.70</td>\n",
              "      <td>14.840000</td>\n",
              "      <td>45.95</td>\n",
              "      <td>4.0</td>\n",
              "      <td>123</td>\n",
              "      <td>7</td>\n",
              "      <td>...</td>\n",
              "      <td>89.9</td>\n",
              "      <td>3.9</td>\n",
              "      <td>13.993833</td>\n",
              "      <td>205.000000</td>\n",
              "      <td>4.4</td>\n",
              "      <td>22.195932</td>\n",
              "      <td>45.95</td>\n",
              "      <td>4.0</td>\n",
              "      <td>14.840000</td>\n",
              "      <td>45.95</td>\n",
              "    </tr>\n",
              "    <tr>\n",
              "      <th>3</th>\n",
              "      <td>bed1</td>\n",
              "      <td>bed_bath_table</td>\n",
              "      <td>01-08-2017</td>\n",
              "      <td>4</td>\n",
              "      <td>183.80</td>\n",
              "      <td>14.287500</td>\n",
              "      <td>45.95</td>\n",
              "      <td>4.0</td>\n",
              "      <td>90</td>\n",
              "      <td>8</td>\n",
              "      <td>...</td>\n",
              "      <td>89.9</td>\n",
              "      <td>3.9</td>\n",
              "      <td>14.656757</td>\n",
              "      <td>199.509804</td>\n",
              "      <td>4.4</td>\n",
              "      <td>19.412885</td>\n",
              "      <td>45.95</td>\n",
              "      <td>4.0</td>\n",
              "      <td>14.287500</td>\n",
              "      <td>45.95</td>\n",
              "    </tr>\n",
              "    <tr>\n",
              "      <th>4</th>\n",
              "      <td>bed1</td>\n",
              "      <td>bed_bath_table</td>\n",
              "      <td>01-09-2017</td>\n",
              "      <td>2</td>\n",
              "      <td>91.90</td>\n",
              "      <td>15.100000</td>\n",
              "      <td>45.95</td>\n",
              "      <td>4.0</td>\n",
              "      <td>54</td>\n",
              "      <td>9</td>\n",
              "      <td>...</td>\n",
              "      <td>89.9</td>\n",
              "      <td>3.9</td>\n",
              "      <td>18.776522</td>\n",
              "      <td>163.398710</td>\n",
              "      <td>4.4</td>\n",
              "      <td>24.324687</td>\n",
              "      <td>45.95</td>\n",
              "      <td>4.0</td>\n",
              "      <td>15.100000</td>\n",
              "      <td>45.95</td>\n",
              "    </tr>\n",
              "  </tbody>\n",
              "</table>\n",
              "<p>5 rows × 23 columns</p>\n",
              "</div>"
            ],
            "text/plain": [
              "  product_id product_category_name  month_year  qty_sold  total_price  \\\n",
              "0       bed1        bed_bath_table  01-05-2017         1        45.95   \n",
              "1       bed1        bed_bath_table  01-06-2017         3       137.85   \n",
              "2       bed1        bed_bath_table  01-07-2017         6       275.70   \n",
              "3       bed1        bed_bath_table  01-08-2017         4       183.80   \n",
              "4       bed1        bed_bath_table  01-09-2017         2        91.90   \n",
              "\n",
              "   freight_price  unit_price  product_rating  no_customers  month  ...  \\\n",
              "0      15.100000       45.95             4.0            57      5  ...   \n",
              "1      12.933333       45.95             4.0            61      6  ...   \n",
              "2      14.840000       45.95             4.0           123      7  ...   \n",
              "3      14.287500       45.95             4.0            90      8  ...   \n",
              "4      15.100000       45.95             4.0            54      9  ...   \n",
              "\n",
              "   comp1_price  comp1_prod_rating  comp1_freight_price  comp2_price  \\\n",
              "0         89.9                3.9            15.011897   215.000000   \n",
              "1         89.9                3.9            14.769216   209.000000   \n",
              "2         89.9                3.9            13.993833   205.000000   \n",
              "3         89.9                3.9            14.656757   199.509804   \n",
              "4         89.9                3.9            18.776522   163.398710   \n",
              "\n",
              "   comp2_prod_rating  comp2_freight_price  comp3_price  comp3_prod_rating  \\\n",
              "0                4.4             8.760000        45.95                4.0   \n",
              "1                4.4            21.322000        45.95                4.0   \n",
              "2                4.4            22.195932        45.95                4.0   \n",
              "3                4.4            19.412885        45.95                4.0   \n",
              "4                4.4            24.324687        45.95                4.0   \n",
              "\n",
              "   comp3_freight_price  lag_price  \n",
              "0            15.100000      45.90  \n",
              "1            12.933333      45.95  \n",
              "2            14.840000      45.95  \n",
              "3            14.287500      45.95  \n",
              "4            15.100000      45.95  \n",
              "\n",
              "[5 rows x 23 columns]"
            ]
          },
          "execution_count": 2,
          "metadata": {},
          "output_type": "execute_result"
        }
      ],
      "source": [
        "#Use Pandas to create DataFrame from CSV\n",
        "sales_df = pd.read_csv(\"Resources/retail_price_cleaned.csv\")\n",
        "\n",
        "sales_df.head()"
      ]
    },
    {
      "cell_type": "code",
      "execution_count": null,
      "id": "fcb91acb",
      "metadata": {
        "id": "fcb91acb",
        "outputId": "026080ef-eead-429c-8019-3c40ab0fc7ff"
      },
      "outputs": [
        {
          "data": {
            "text/plain": [
              "array(['bed_bath_table', 'garden_tools', 'consoles_games',\n",
              "       'health_beauty', 'cool_stuff', 'perfumery',\n",
              "       'computers_accessories', 'watches_gifts', 'furniture_decor'],\n",
              "      dtype=object)"
            ]
          },
          "execution_count": 4,
          "metadata": {},
          "output_type": "execute_result"
        }
      ],
      "source": [
        "#Unique Names for Product Categories\n",
        "sales_df[\"product_category_name\"].unique()"
      ]
    },
    {
      "cell_type": "code",
      "execution_count": null,
      "id": "6bf6cc4f",
      "metadata": {
        "id": "6bf6cc4f",
        "outputId": "ccd07658-f5b0-4a60-c559-baa816ba3bcb"
      },
      "outputs": [
        {
          "data": {
            "text/plain": [
              "array([2017, 2018], dtype=int64)"
            ]
          },
          "execution_count": 5,
          "metadata": {},
          "output_type": "execute_result"
        }
      ],
      "source": [
        "#Unique Years in Dataset\n",
        "sales_df[\"year\"].unique()"
      ]
    },
    {
      "cell_type": "code",
      "execution_count": null,
      "id": "376b8701",
      "metadata": {
        "id": "376b8701",
        "outputId": "28eba294-099b-4b9a-f63e-ee0e096d8282"
      },
      "outputs": [
        {
          "data": {
            "text/plain": [
              "product_category_name\n",
              "bed_bath_table           1026\n",
              "computers_accessories    1167\n",
              "consoles_games            239\n",
              "cool_stuff                558\n",
              "furniture_decor           894\n",
              "garden_tools             2398\n",
              "health_beauty            1842\n",
              "perfumery                 244\n",
              "watches_gifts            1431\n",
              "Name: qty_sold, dtype: int64"
            ]
          },
          "execution_count": 6,
          "metadata": {},
          "output_type": "execute_result"
        }
      ],
      "source": [
        "#Sum of qty sold by product category\n",
        "sale_vol_by_cat = sales_df.groupby(by=[\"product_category_name\"])[\"qty_sold\"].sum()\n",
        "\n",
        "sale_vol_by_cat"
      ]
    },
    {
      "cell_type": "markdown",
      "id": "588ab7d7",
      "metadata": {
        "id": "588ab7d7"
      },
      "source": [
        "### Explore sales data per product category"
      ]
    },
    {
      "cell_type": "code",
      "execution_count": null,
      "id": "d07cb515",
      "metadata": {
        "id": "d07cb515",
        "outputId": "82c75be0-14b3-4c24-8272-acab7acf3b58"
      },
      "outputs": [
        {
          "data": {
            "image/png": "[encoded data removed]",
            "text/plain": [
              "<Figure size 432x288 with 1 Axes>"
            ]
          },
          "metadata": {
            "needs_background": "light"
          },
          "output_type": "display_data"
        }
      ],
      "source": [
        "#Total Sale Volume by Product Category\n",
        "sale_vol_by_cat.plot.bar()\n",
        "plt.ylabel(\"Total Sale Volume\")\n",
        "\n",
        "plt.show()"
      ]
    },
    {
      "cell_type": "code",
      "execution_count": null,
      "id": "3f9539c0",
      "metadata": {
        "id": "3f9539c0",
        "outputId": "538decfc-be5e-4c33-daff-b49eb722c3e6"
      },
      "outputs": [
        {
          "data": {
            "text/plain": [
              "product_category_name\n",
              "bed_bath_table            3313\n",
              "computers_accessories     4807\n",
              "consoles_games             439\n",
              "cool_stuff                2168\n",
              "furniture_decor           2495\n",
              "garden_tools             17618\n",
              "health_beauty            13765\n",
              "perfumery                  427\n",
              "watches_gifts             9743\n",
              "Name: no_customers, dtype: int64"
            ]
          },
          "execution_count": 7,
          "metadata": {},
          "output_type": "execute_result"
        }
      ],
      "source": [
        "#Number of Customers by Product Category\n",
        "no_customer_by_cat = sales_df.groupby(by=[\"product_category_name\"])[\"no_customers\"].sum()\n",
        "\n",
        "no_customer_by_cat"
      ]
    },
    {
      "cell_type": "code",
      "execution_count": null,
      "id": "27f6941f",
      "metadata": {
        "id": "27f6941f",
        "outputId": "2a265d5f-635a-4199-9633-01b4334093df"
      },
      "outputs": [
        {
          "data": {
            "image/png": "[encoded data removed]",
            "text/plain": [
              "<Figure size 432x288 with 1 Axes>"
            ]
          },
          "metadata": {
            "needs_background": "light"
          },
          "output_type": "display_data"
        }
      ],
      "source": [
        "#Number of Customers by Product Category Chart\n",
        "no_customer_by_cat.plot.bar()\n",
        "plt.ylabel(\"Total Number of Customers\")\n",
        "\n",
        "plt.show()"
      ]
    },
    {
      "cell_type": "code",
      "execution_count": null,
      "id": "577d3d41",
      "metadata": {
        "id": "577d3d41",
        "outputId": "891ad564-047e-4b60-c6cd-bd82226a897f"
      },
      "outputs": [
        {
          "data": {
            "text/plain": [
              "product_category_name\n",
              "bed_bath_table            95084.52\n",
              "computers_accessories    142097.95\n",
              "consoles_games             5800.70\n",
              "cool_stuff                57956.30\n",
              "furniture_decor           56925.16\n",
              "garden_tools             163582.54\n",
              "health_beauty            212409.24\n",
              "perfumery                 20312.52\n",
              "watches_gifts            207582.17\n",
              "Name: total_price, dtype: float64"
            ]
          },
          "execution_count": 15,
          "metadata": {},
          "output_type": "execute_result"
        }
      ],
      "source": [
        "#Sales Revenue by Product Category\n",
        "sale_rev_by_cat = sales_df.groupby(by=[\"product_category_name\"])[\"total_price\"].sum()\n",
        "\n",
        "sale_rev_by_cat"
      ]
    },
    {
      "cell_type": "code",
      "execution_count": null,
      "id": "837d646f",
      "metadata": {
        "id": "837d646f",
        "outputId": "70039a32-a6ab-4517-ff84-96f0c24b09de"
      },
      "outputs": [
        {
          "data": {
            "image/png": "[encoded data removed]",
            "text/plain": [
              "<Figure size 432x288 with 1 Axes>"
            ]
          },
          "metadata": {
            "needs_background": "light"
          },
          "output_type": "display_data"
        }
      ],
      "source": [
        "#Sales Revenue by Product Category Bar Chart\n",
        "sale_rev_by_cat.plot.bar()\n",
        "plt.ylabel(\"Total Revenue\")\n",
        "\n",
        "plt.show()"
      ]
    },
    {
      "cell_type": "code",
      "execution_count": null,
      "id": "cae09a8c",
      "metadata": {
        "id": "cae09a8c",
        "outputId": "8a61936a-582f-44a7-c747-685d5b189031"
      },
      "outputs": [
        {
          "data": {
            "text/html": [
              "<div>\n",
              "<style scoped>\n",
              "    .dataframe tbody tr th:only-of-type {\n",
              "        vertical-align: middle;\n",
              "    }\n",
              "\n",
              "    .dataframe tbody tr th {\n",
              "        vertical-align: top;\n",
              "    }\n",
              "\n",
              "    .dataframe thead th {\n",
              "        text-align: right;\n",
              "    }\n",
              "</style>\n",
              "<table border=\"1\" class=\"dataframe\">\n",
              "  <thead>\n",
              "    <tr style=\"text-align: right;\">\n",
              "      <th></th>\n",
              "      <th>qty_sold</th>\n",
              "      <th>total_price</th>\n",
              "      <th>no_customers</th>\n",
              "    </tr>\n",
              "    <tr>\n",
              "      <th>product_category_name</th>\n",
              "      <th></th>\n",
              "      <th></th>\n",
              "      <th></th>\n",
              "    </tr>\n",
              "  </thead>\n",
              "  <tbody>\n",
              "    <tr>\n",
              "      <th>bed_bath_table</th>\n",
              "      <td>1026</td>\n",
              "      <td>95084.52</td>\n",
              "      <td>3313</td>\n",
              "    </tr>\n",
              "    <tr>\n",
              "      <th>computers_accessories</th>\n",
              "      <td>1167</td>\n",
              "      <td>142097.95</td>\n",
              "      <td>4807</td>\n",
              "    </tr>\n",
              "    <tr>\n",
              "      <th>consoles_games</th>\n",
              "      <td>239</td>\n",
              "      <td>5800.70</td>\n",
              "      <td>439</td>\n",
              "    </tr>\n",
              "    <tr>\n",
              "      <th>cool_stuff</th>\n",
              "      <td>558</td>\n",
              "      <td>57956.30</td>\n",
              "      <td>2168</td>\n",
              "    </tr>\n",
              "    <tr>\n",
              "      <th>furniture_decor</th>\n",
              "      <td>894</td>\n",
              "      <td>56925.16</td>\n",
              "      <td>2495</td>\n",
              "    </tr>\n",
              "  </tbody>\n",
              "</table>\n",
              "</div>"
            ],
            "text/plain": [
              "                       qty_sold  total_price  no_customers\n",
              "product_category_name                                     \n",
              "bed_bath_table             1026     95084.52          3313\n",
              "computers_accessories      1167    142097.95          4807\n",
              "consoles_games              239      5800.70           439\n",
              "cool_stuff                  558     57956.30          2168\n",
              "furniture_decor             894     56925.16          2495"
            ]
          },
          "execution_count": 19,
          "metadata": {},
          "output_type": "execute_result"
        }
      ],
      "source": [
        "#Sales Data by Product Category\n",
        "sales_data_by_category = pd.DataFrame(sales_df.groupby([\"product_category_name\"])[[\"qty_sold\", \"total_price\", \"no_customers\"]].sum())\n",
        "\n",
        "sales_data_by_category.head()"
      ]
    },
    {
      "cell_type": "code",
      "execution_count": null,
      "id": "d82dbc2c",
      "metadata": {
        "id": "d82dbc2c",
        "outputId": "32248818-aa92-4ee7-ca34-1ced7103f5a6"
      },
      "outputs": [
        {
          "data": {
            "text/html": [
              "<div>\n",
              "<style scoped>\n",
              "    .dataframe tbody tr th:only-of-type {\n",
              "        vertical-align: middle;\n",
              "    }\n",
              "\n",
              "    .dataframe tbody tr th {\n",
              "        vertical-align: top;\n",
              "    }\n",
              "\n",
              "    .dataframe thead th {\n",
              "        text-align: right;\n",
              "    }\n",
              "</style>\n",
              "<table border=\"1\" class=\"dataframe\">\n",
              "  <thead>\n",
              "    <tr style=\"text-align: right;\">\n",
              "      <th></th>\n",
              "      <th>Sales Volume</th>\n",
              "      <th>Revenue</th>\n",
              "      <th>Number of Customers</th>\n",
              "    </tr>\n",
              "    <tr>\n",
              "      <th>product_category_name</th>\n",
              "      <th></th>\n",
              "      <th></th>\n",
              "      <th></th>\n",
              "    </tr>\n",
              "  </thead>\n",
              "  <tbody>\n",
              "    <tr>\n",
              "      <th>bed_bath_table</th>\n",
              "      <td>1026</td>\n",
              "      <td>95084.52</td>\n",
              "      <td>3313</td>\n",
              "    </tr>\n",
              "    <tr>\n",
              "      <th>computers_accessories</th>\n",
              "      <td>1167</td>\n",
              "      <td>142097.95</td>\n",
              "      <td>4807</td>\n",
              "    </tr>\n",
              "    <tr>\n",
              "      <th>consoles_games</th>\n",
              "      <td>239</td>\n",
              "      <td>5800.70</td>\n",
              "      <td>439</td>\n",
              "    </tr>\n",
              "    <tr>\n",
              "      <th>cool_stuff</th>\n",
              "      <td>558</td>\n",
              "      <td>57956.30</td>\n",
              "      <td>2168</td>\n",
              "    </tr>\n",
              "    <tr>\n",
              "      <th>furniture_decor</th>\n",
              "      <td>894</td>\n",
              "      <td>56925.16</td>\n",
              "      <td>2495</td>\n",
              "    </tr>\n",
              "  </tbody>\n",
              "</table>\n",
              "</div>"
            ],
            "text/plain": [
              "                       Sales Volume    Revenue  Number of Customers\n",
              "product_category_name                                              \n",
              "bed_bath_table                 1026   95084.52                 3313\n",
              "computers_accessories          1167  142097.95                 4807\n",
              "consoles_games                  239    5800.70                  439\n",
              "cool_stuff                      558   57956.30                 2168\n",
              "furniture_decor                 894   56925.16                 2495"
            ]
          },
          "execution_count": 20,
          "metadata": {},
          "output_type": "execute_result"
        }
      ],
      "source": [
        "#Rename columns for cleaner visualization\n",
        "sales_data_by_category = sales_data_by_category.rename(columns={\"qty_sold\": \"Sales Volume\", \"total_price\": \"Revenue\", \"no_customers\": \"Number of Customers\"})\n",
        "\n",
        "sales_data_by_category.head()"
      ]
    },
    {
      "cell_type": "code",
      "execution_count": null,
      "id": "eca2a9f8",
      "metadata": {
        "id": "eca2a9f8",
        "outputId": "c1608f7c-a99c-420d-9be3-3773336e82ab"
      },
      "outputs": [
        {
          "data": {
            "image/png": "[encoded data removed]",
            "text/plain": [
              "<Figure size 432x288 with 1 Axes>"
            ]
          },
          "metadata": {
            "needs_background": "light"
          },
          "output_type": "display_data"
        }
      ],
      "source": [
        "#Sales Data by Product Category Bar Chart\n",
        "sales_data_by_category.plot.bar()\n",
        "\n",
        "plt.xlabel(\"Product Category\")\n",
        "\n",
        "plt.show()"
      ]
    },
    {
      "cell_type": "markdown",
      "id": "77028efc",
      "metadata": {
        "id": "77028efc"
      },
      "source": [
        "#### Categories with the highest Sales Volume, Revenue, Number of Customers:\n",
        "- garden_tools\n",
        "- health_beauty\n",
        "- watches_gifts"
      ]
    },
    {
      "cell_type": "code",
      "execution_count": null,
      "id": "a56f3b98",
      "metadata": {
        "id": "a56f3b98",
        "outputId": "b4710633-5cc9-43e7-bfc3-fc603c5fd1bc"
      },
      "outputs": [
        {
          "data": {
            "text/plain": [
              "product_category_name\n",
              "bed_bath_table           3.908197\n",
              "computers_accessories    3.985507\n",
              "consoles_games           4.063636\n",
              "cool_stuff               4.207018\n",
              "furniture_decor          3.979167\n",
              "garden_tools             4.161875\n",
              "health_beauty            4.145385\n",
              "perfumery                4.350000\n",
              "watches_gifts            3.983495\n",
              "Name: product_rating, dtype: float64"
            ]
          },
          "execution_count": 17,
          "metadata": {},
          "output_type": "execute_result"
        }
      ],
      "source": [
        "avg_rating_by_cat = sales_df.groupby(by=[\"product_category_name\"])[\"product_rating\"].mean()\n",
        "\n",
        "avg_rating_by_cat"
      ]
    },
    {
      "cell_type": "code",
      "execution_count": null,
      "id": "a2636be0",
      "metadata": {
        "id": "a2636be0",
        "outputId": "0d8d4010-e6ea-4c5d-ad62-b7c59970d368"
      },
      "outputs": [
        {
          "data": {
            "image/png": "[encoded data removed]",
            "text/plain": [
              "<Figure size 432x288 with 1 Axes>"
            ]
          },
          "metadata": {
            "needs_background": "light"
          },
          "output_type": "display_data"
        }
      ],
      "source": [
        "avg_rating_by_cat.plot.bar()\n",
        "plt.ylabel(\"Average Rating\")\n",
        "\n",
        "plt.show()"
      ]
    },
    {
      "cell_type": "markdown",
      "id": "f92dc50c",
      "metadata": {
        "id": "f92dc50c"
      },
      "source": [
        "#### Average ratings for each product categories are about the same. All categories have average ratings above 3.9 which means the customers are generally satisfied by their purchases regardless of price or product."
      ]
    },
    {
      "cell_type": "markdown",
      "id": "e1dce4d2",
      "metadata": {
        "id": "e1dce4d2"
      },
      "source": [
        "### Explore sales data per year"
      ]
    },
    {
      "cell_type": "code",
      "execution_count": null,
      "id": "7ea66667",
      "metadata": {
        "id": "7ea66667",
        "outputId": "de99e9d3-fcd6-48e6-f50c-2386183a6bbb"
      },
      "outputs": [
        {
          "data": {
            "text/html": [
              "<div>\n",
              "<style scoped>\n",
              "    .dataframe tbody tr th:only-of-type {\n",
              "        vertical-align: middle;\n",
              "    }\n",
              "\n",
              "    .dataframe tbody tr th {\n",
              "        vertical-align: top;\n",
              "    }\n",
              "\n",
              "    .dataframe thead th {\n",
              "        text-align: right;\n",
              "    }\n",
              "</style>\n",
              "<table border=\"1\" class=\"dataframe\">\n",
              "  <thead>\n",
              "    <tr style=\"text-align: right;\">\n",
              "      <th></th>\n",
              "      <th>Sales Volume</th>\n",
              "      <th>Revenue</th>\n",
              "      <th>Number of Customers</th>\n",
              "    </tr>\n",
              "    <tr>\n",
              "      <th>year</th>\n",
              "      <th></th>\n",
              "      <th></th>\n",
              "      <th></th>\n",
              "    </tr>\n",
              "  </thead>\n",
              "  <tbody>\n",
              "    <tr>\n",
              "      <th>2017</th>\n",
              "      <td>4348</td>\n",
              "      <td>409583.28</td>\n",
              "      <td>21441</td>\n",
              "    </tr>\n",
              "    <tr>\n",
              "      <th>2018</th>\n",
              "      <td>5451</td>\n",
              "      <td>552167.82</td>\n",
              "      <td>33334</td>\n",
              "    </tr>\n",
              "  </tbody>\n",
              "</table>\n",
              "</div>"
            ],
            "text/plain": [
              "      Sales Volume    Revenue  Number of Customers\n",
              "year                                              \n",
              "2017          4348  409583.28                21441\n",
              "2018          5451  552167.82                33334"
            ]
          },
          "execution_count": 24,
          "metadata": {},
          "output_type": "execute_result"
        }
      ],
      "source": [
        "sales_data_by_yr = pd.DataFrame(sales_df.groupby([\"year\"])[[\"qty_sold\", \"total_price\", \"no_customers\"]].sum())\n",
        "\n",
        "sales_data_by_yr = sales_data_by_yr.rename(columns={\"qty_sold\": \"Sales Volume\", \"total_price\": \"Revenue\", \"no_customers\": \"Number of Customers\"})\n",
        "\n",
        "sales_data_by_yr.head()"
      ]
    },
    {
      "cell_type": "markdown",
      "id": "f137a6a7",
      "metadata": {
        "id": "f137a6a7"
      },
      "source": [
        "#### Sales volume, revenue and customer numbers were higher in 2018 than 2017\n",
        "#### Our data is limited to 2 years.  Therefore, not many conclusions can be drawn by looking at sales year. Fortunately, the data is split into seasons and months, which could provide better grounds for a conclusion to be made."
      ]
    },
    {
      "cell_type": "markdown",
      "id": "d6953394",
      "metadata": {
        "id": "d6953394"
      },
      "source": [
        "### Explore relationships"
      ]
    },
    {
      "cell_type": "code",
      "execution_count": null,
      "id": "3d761b5e",
      "metadata": {
        "id": "3d761b5e",
        "outputId": "34f96501-3071-48f9-f19c-6613dff6d7f1"
      },
      "outputs": [
        {
          "data": {
            "image/png": "[encoded data removed]",
            "text/plain": [
              "<Figure size 432x288 with 1 Axes>"
            ]
          },
          "metadata": {
            "needs_background": "light"
          },
          "output_type": "display_data"
        }
      ],
      "source": [
        "sales_df.plot(kind=\"scatter\", x=\"qty_sold\", y=\"total_price\")\n",
        "\n",
        "plt.show()"
      ]
    },
    {
      "cell_type": "markdown",
      "source": [
        "##Initial Thoughts:\n",
        "Majority of products have low quantities sold per month.  It does not look like there are any correlations between quantities sold and the total price.  A trendline is needed to make further evaluations."
      ],
      "metadata": {
        "id": "DK9FZAAiBDiJ"
      },
      "id": "DK9FZAAiBDiJ"
    },
    {
      "cell_type": "code",
      "execution_count": null,
      "id": "c81778c6",
      "metadata": {
        "id": "c81778c6",
        "outputId": "b7faa5d6-09b7-41a1-8ac1-532b71f482ad"
      },
      "outputs": [
        {
          "data": {
            "image/png": "[encoded data removed]",
            "text/plain": [
              "<Figure size 432x288 with 1 Axes>"
            ]
          },
          "metadata": {
            "needs_background": "light"
          },
          "output_type": "display_data"
        }
      ],
      "source": [
        "sales_df.plot(kind=\"scatter\", x=\"qty_sold\", y=\"unit_price\")\n",
        "\n",
        "plt.show()"
      ]
    },
    {
      "cell_type": "markdown",
      "source": [
        "##Initial Thoughts:\n",
        "A trendline is not needed to see that there is no relationship between quantity sold and unit price.  However, Like the previous scatter plot, we can see that a majority of the products have low quantities sold with some variance with unit price."
      ],
      "metadata": {
        "id": "CLrPwORrBdRe"
      },
      "id": "CLrPwORrBdRe"
    },
    {
      "cell_type": "code",
      "execution_count": null,
      "id": "7d9ad5b8",
      "metadata": {
        "id": "7d9ad5b8",
        "outputId": "16e921b3-9333-4b46-c497-3870e53fff0c"
      },
      "outputs": [
        {
          "data": {
            "image/png": "[encoded data removed]",
            "text/plain": [
              "<Figure size 432x288 with 1 Axes>"
            ]
          },
          "metadata": {
            "needs_background": "light"
          },
          "output_type": "display_data"
        }
      ],
      "source": [
        "# Test case 1: only using garden_tools category\n",
        "garden_df = sales_df.loc[sales_df[\"product_category_name\"]==\"garden_tools\"]\n",
        "\n",
        "garden_df.plot(kind=\"scatter\", x=\"qty_sold\", y=\"total_price\")\n",
        "\n",
        "plt.show()"
      ]
    },
    {
      "cell_type": "markdown",
      "source": [
        "##Initial Thoughts:\n",
        "From first glance, it could be easy to make the conclusion that there is a rather high chance of a linear relationship with quantity sold and total price for garden tools.  However, there are various data points that deviate from the trend.  I believe this could be due to the pricing and popularity of certain products."
      ],
      "metadata": {
        "id": "FVktqUAHBzTB"
      },
      "id": "FVktqUAHBzTB"
    },
    {
      "cell_type": "code",
      "execution_count": null,
      "id": "3f1734fa",
      "metadata": {
        "id": "3f1734fa",
        "outputId": "e1b5d1a8-f12a-438d-ebf8-09104b443cdc"
      },
      "outputs": [
        {
          "data": {
            "image/png": "[encoded data removed]",
            "text/plain": [
              "<Figure size 432x288 with 1 Axes>"
            ]
          },
          "metadata": {
            "needs_background": "light"
          },
          "output_type": "display_data"
        }
      ],
      "source": [
        "# Test case 2: only using health_beauty category\n",
        "health_df = sales_df.loc[sales_df[\"product_category_name\"]==\"health_beauty\"]\n",
        "\n",
        "health_df.plot(kind=\"scatter\", x=\"qty_sold\", y=\"total_price\")\n",
        "\n",
        "plt.show()"
      ]
    },
    {
      "cell_type": "markdown",
      "id": "8d9b98ef",
      "metadata": {
        "id": "8d9b98ef"
      },
      "source": [
        "##Initial Thoughts:\n",
        "The Health and Beauty has a much bigger spread than the garden tools.  In fact, products in this category has the highest difference in price points and quantities sold between each other.  \n",
        "\n",
        "I believe this is also due to the pricing and popularity of the product.  For example, SKII is a very expensive product but it is also renowned for its effectiveness.  On the other hand, common brands like Cetaphil are also popular for its effectiveness but they are also much cheaper than a brand like SKII."
      ]
    },
    {
      "cell_type": "code",
      "execution_count": null,
      "id": "fed2ec63",
      "metadata": {
        "id": "fed2ec63",
        "outputId": "944d23ed-6f29-46c7-8e12-38810c92ec49"
      },
      "outputs": [
        {
          "data": {
            "image/png": "[encoded data removed]",
            "text/plain": [
              "<Figure size 432x288 with 1 Axes>"
            ]
          },
          "metadata": {
            "needs_background": "light"
          },
          "output_type": "display_data"
        }
      ],
      "source": [
        "sales_df.plot(kind=\"scatter\", x=\"no_customers\", y=\"total_price\")\n",
        "\n",
        "plt.show()"
      ]
    },
    {
      "cell_type": "code",
      "execution_count": null,
      "id": "c8e367e9",
      "metadata": {
        "id": "c8e367e9"
      },
      "outputs": [],
      "source": []
    }
  ],
  "metadata": {
    "kernelspec": {
      "display_name": "PythonData",
      "language": "python",
      "name": "pythondata"
    },
    "language_info": {
      "codemirror_mode": {
        "name": "ipython",
        "version": 3
      },
      "file_extension": ".py",
      "mimetype": "text/x-python",
      "name": "python",
      "nbconvert_exporter": "python",
      "pygments_lexer": "ipython3",
      "version": "3.7.7"
    },
    "colab": {
      "provenance": []
    }
  },
  "nbformat": 4,
  "nbformat_minor": 5
}